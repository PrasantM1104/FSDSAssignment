{
 "cells": [
  {
   "cell_type": "code",
   "execution_count": null,
   "id": "f9a1660d-ec58-495f-aa04-89d066bb5447",
   "metadata": {},
   "outputs": [],
   "source": [
    "1. In the below elements which of them are values or an expression? eg:- values can be integer or string and \n",
    "expressions will be mathematical operators.\n",
    "\n",
    "Ans:\n",
    "*                Expression\n",
    "'hello';         Values\n",
    "-87.8            Values\n",
    "-                Expression\n",
    "/                Expression\n",
    "+                Expression\n",
    "6                Values"
   ]
  },
  {
   "cell_type": "code",
   "execution_count": null,
   "id": "d7ebe036-1a43-4226-b3d4-6397e852381c",
   "metadata": {},
   "outputs": [],
   "source": [
    "2. What is the difference between string and variable?\n",
    "\n",
    "Ans:\n",
    "String is data type which includes characters, numbers, operators or any special characters enclosed withing \n",
    "double or single quotes. \n",
    "Eg. \"Pen\", 'Book#35', 'ineuron+pw = pwskills'\n",
    "\n",
    "Variables are the containers that stores data of various datatypes. It is a pointer that reference to the \n",
    "object or in other works it is the name given to a memory location where value assigned is stored. In python, \n",
    "the type of variable is not pre-defined. Rather its type is defined, when a value is assigned.\n",
    "Eg. a = 4, _b = \"work\""
   ]
  },
  {
   "cell_type": "code",
   "execution_count": null,
   "id": "39a3a1a1-099a-4193-bedf-a10cb400fe09",
   "metadata": {},
   "outputs": [],
   "source": [
    "3. Describe three different data types.\n",
    "\n",
    "Ans: The three different data types are:\n",
    "i) Numeric \n",
    "ii) Sequence\n",
    "iii) Others\n",
    "\n",
    "i) Numeric Data Types has numeric data. They are further categorized to 3 different types.\n",
    "a) Integer Type - It contains only whole numbers (both positive and negative). Eg. 25, -27, 0, 252526906\n",
    "b) Float Type - It contains real numbers. It also has whole number but with .0 in prefix. Eg. 8.62, -25896.05, 6.0\n",
    "c) Complex Type - It contains complex numbers which consist of real and imginary part. Imaginary part is a number\n",
    "suffixed or prefixed with the letter 'j' (in Python and as 'i' in Maths) and it doesn't exist but it helps to \n",
    "solve polynomial equations. 'j' or 'i' is simple terms signifies the value of sq.root of -1. Eg. 7+9j, -8-5.8j\n",
    "\n",
    "ii) Sequence Data Types is the ordered collection of similar or different data types. They are further categorized\n",
    "to 2 different types.\n",
    "a) Immutable- The object whose value cannot be changed by using index re-assignment is called immutable. \n",
    "Eg. String and Tuple Data Type.\n",
    "> String- It is a collection of one or more unicode characters enclosed within single quotes, double quotes or\n",
    "triple quotes. Eg. 'a+b', \"abc\", '''@Mark 23+45'''\n",
    "> Tuple- It is a ordered collection of same or different data types separated by commas, enclosed within \n",
    "parenthesis, which allows duplicate values and whose value cannot be changed.  \n",
    "Eg. (1,2,3), (\"abc\", 7+j8, [23,5,6], (1,25,5))\n",
    "\n",
    "b) Mutable - The object whose value can be changed by using index re-assignment. Eg. List\n",
    "> List is also ordered collection of same or different data types separated by commas enclosed within square \n",
    "brackets. It also allows duplicate values. Eg. [1,2, \"abc\", True, (3,5,6), [8,35,5], 8-j9]\n",
    "\n",
    "iii) Other Data Types contains:\n",
    "a) Set- It is a set of unordered collection of \"unique\" items of different data types, which is neither iterable\n",
    "nor mutable. The items in Set have no duplicate values and are enclosed in curly parenthesis i.e. {}.\n",
    "Note: List, Dictionary and set itself cannot be part of collection of set. Eg.: {23, 'abc', (3,4)}\n",
    "b) Dictionary - It is set of unordered collection of items in key-value pair which are seperated with colon and\n",
    "items are sepearted by commas and also enclosed with curly parenthesis as Set i.e. {}.\n",
    "Eg.: {'Key1' : 'Value', 'Key2' : 352}\n",
    "c) Boolean - It is a 1-byte data type and it gives the Truth value of the expression. It has only 2 values \n",
    "i.e. True and False.\n",
    "Eg. 2 > 8 --- False\n"
   ]
  },
  {
   "cell_type": "code",
   "execution_count": null,
   "id": "90fd20c0-947d-456e-a0c1-9f1ff76dc671",
   "metadata": {},
   "outputs": [],
   "source": [
    "4. What is an expression made up of? What do all expressions do?\n",
    "\n",
    "Ans: An Expression is made of two (or more) operand and one (or more) numeric operator respectively, to execute to \n",
    "get a intended outcome. \n",
    "    An operand can be value or variable. Minimum 2 operands are required to perform an operation and both must be\n",
    "    same data type.\n",
    "    An operator are symbols to perform numeric and logical operation\n",
    "\n",
    "Eg.: a = 5, b = 8. a + b is a correct expression.\n",
    "     a = 'v', b = 9. a + b is an incorrect expression, as they are of different datatypes.\n",
    "     \n",
    "     \n",
    "An Expression always perform operation to produce a result."
   ]
  },
  {
   "cell_type": "code",
   "execution_count": null,
   "id": "6d1e5638-c082-444c-a693-d62385b785c5",
   "metadata": {},
   "outputs": [],
   "source": [
    "5. This assignment statements, like spam = 10. What is the difference between an expression and a statement?\n",
    "\n",
    "Ans: The difference between expression and statement are:\n",
    "i) Expression performs an operation to get an output but statement doesn't perform any operation, rather it \n",
    "   assign value to a variable.\n",
    "ii) Expression require 2 operand of same data type and an numeric operator to perform any operation.\n",
    "    Whereas in Statement, a variable is assigned a value and operator is always assignment operators \n",
    "    like '=, >, <, >=, <='"
   ]
  },
  {
   "cell_type": "code",
   "execution_count": null,
   "id": "38293b96-af3e-4b07-9eb8-9d2b90d26b37",
   "metadata": {},
   "outputs": [],
   "source": [
    "6. After running the following code, what does the variable bacon contain?\n",
    "bacon = 22\n",
    "bacon + 1\n",
    "\n",
    "Ans: bacon = 22\n",
    "Reason: bacon + 1: doesn't increases the value of bacon, as it is not stored in bacon. Hence, the value of bacon\n",
    "remains the same i.e. 2"
   ]
  },
  {
   "cell_type": "code",
   "execution_count": null,
   "id": "04b5e7d1-8209-4abb-a58f-412ac045759c",
   "metadata": {},
   "outputs": [],
   "source": [
    "7. What should the values of the following two terms be?\n",
    "'spam' + 'spamspam';\n",
    "'spam' * 3\n",
    "\n",
    "Ans: Both the expression give value 'spamspamspam'\n",
    "'spam' + 'spamspam' = 'spamspamspam'\n",
    "'spam' * 3 = spamspamspam"
   ]
  },
  {
   "cell_type": "code",
   "execution_count": null,
   "id": "71f46b43-15be-4b90-88f3-43b209c20273",
   "metadata": {},
   "outputs": [],
   "source": [
    "8. Why is eggs a valid variable name while 100 is invalid?\n",
    "\n",
    "Ans: 'eggs' is a valid variable because it satisfies the rules of naming convention of variable, whereas 100 doesn't \n",
    "satisfy. And so eggs is a variable and 100 is not.\n",
    "\n",
    "Naming rules of a variables are:\n",
    "1) It should start with a letter or underscore(_)\n",
    "2) It can't start with number\n",
    "3) It can only contain alphanumeric characters and underscores\n",
    "4) It is case sensitive."
   ]
  },
  {
   "cell_type": "code",
   "execution_count": null,
   "id": "0798e132-44d4-41f3-8475-84281bf01169",
   "metadata": {},
   "outputs": [],
   "source": [
    "9. What three functions can be used to get the integer, floating-point number, or string version of a value?\n",
    "\n",
    "Ans: int(), float() and str() functions can used to get integer, floating-point number and string version of a \n",
    "value respectively."
   ]
  },
  {
   "cell_type": "code",
   "execution_count": null,
   "id": "e1e6cbd4-b4f3-4301-a6ac-f0dcf6eeb4d6",
   "metadata": {},
   "outputs": [],
   "source": [
    "10. Why does this expression cause an error? How can you fix it?\n",
    "'I have eaten ' + 99 + ' burritos.'\n",
    "\n",
    "Ans:\n",
    "The above expression causes an error because the expression is trying to concatenate string with integer, which\n",
    "is invalid operation in Python.\n",
    "It can be corrected by changing the integer to string type as below:\n",
    "'I have eaten ' + str(99) + ' burritos.'\n",
    "                or\n",
    "'I have eaten ' + '99' + ' burritos.'"
   ]
  }
 ],
 "metadata": {
  "kernelspec": {
   "display_name": "Python 3 (ipykernel)",
   "language": "python",
   "name": "python3"
  },
  "language_info": {
   "codemirror_mode": {
    "name": "ipython",
    "version": 3
   },
   "file_extension": ".py",
   "mimetype": "text/x-python",
   "name": "python",
   "nbconvert_exporter": "python",
   "pygments_lexer": "ipython3",
   "version": "3.10.6"
  }
 },
 "nbformat": 4,
 "nbformat_minor": 5
}
