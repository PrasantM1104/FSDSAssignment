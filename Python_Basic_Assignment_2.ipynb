{
 "cells": [
  {
   "cell_type": "code",
   "execution_count": null,
   "id": "b976e466-8118-4877-9cb6-de019c6dbf81",
   "metadata": {},
   "outputs": [],
   "source": [
    "1.What are the two values of the Boolean data type? How do you write them?\n",
    "\n",
    "Ans: \n",
    "\n",
    "The two values of Boolean data type are 'True' and 'False'. \n",
    "\n",
    "They can be written as:\n",
    "i) Assign a boolean value to a variable. Eg a = True, b = False\n",
    "   Note: Boolean value shouldn't be enclosed in quotes.\n",
    "ii) Return True or False, if the condition is met or not.\n",
    "    Eg. if 5 > 6:\n",
    "            print('Condition is not met')\n",
    "        else:\n",
    "            pass\n",
    "            \n",
    "    Here, the condition is False"
   ]
  },
  {
   "cell_type": "code",
   "execution_count": null,
   "id": "84d63d05-d84e-469a-b584-56a2069e1887",
   "metadata": {},
   "outputs": [],
   "source": [
    "2. What are the three different types of Boolean operators?\n",
    "\n",
    "Ans:\n",
    "The three different types of Boolean opeartors are: 'And', 'Or' and 'Not'\n",
    "\n",
    "'And' operator returns True value only when 2 or more conditions are met or are True.\n",
    "\n",
    "'Or' operator returns True value when either of the condition is met or is True.  \n",
    "    \n",
    "'Not' operator returns True if condition is False and vice versa."
   ]
  },
  {
   "cell_type": "code",
   "execution_count": null,
   "id": "73083b57-25d7-40e9-8921-e688543cc50b",
   "metadata": {},
   "outputs": [],
   "source": [
    "3. Make a list of each Boolean operator's truth tables (i.e. every possible combination of Boolean values for \n",
    "the operator and what it evaluate ).\n",
    "\n",
    "# Ans: \n",
    "The truth table of Boolean operator 'And' is:\n",
    "    False and False --> False\n",
    "    True  and False --> False\n",
    "    False and True  --> False\n",
    "    True  and True  --> True\n",
    "'And' operator returns True value only when 2 or more conditions are met or are True.\n",
    "Eg. 4 > 5 and 100 < 50   --> False\n",
    "    4 < 5 and 100 < 50   --> False\n",
    "    4 > 5 and 100 > 50   --> False\n",
    "    4 < 5 and 100 > 50   --> True\n",
    "    \n",
    "The truth table of Boolean operator 'Or' is:\n",
    "    False or False --> False\n",
    "    True  or False --> True\n",
    "    False or True  --> True\n",
    "    True  or True  --> True\n",
    "'Or' operator returns True value when either of the condition is met or is True.\n",
    "Eg. 4 > 5 or 100 < 50   --> False\n",
    "    4 < 5 or 100 < 50   --> True\n",
    "    4 > 5 or 100 > 50   --> True\n",
    "    4 < 5 or 100 > 50   --> True\n",
    "    \n",
    "The truth table of Boolean operator 'Not' is:  \n",
    "    True  --> False\n",
    "    False --> True\n",
    "'Not' operator returns True if condition is False and vice versa.\n",
    "Eg. not(4 > 5)  --> True\n",
    "    not(4 < 5)  --> False\n"
   ]
  },
  {
   "cell_type": "code",
   "execution_count": null,
   "id": "3d915ea4-2ed1-4483-8221-43628538ac02",
   "metadata": {},
   "outputs": [],
   "source": [
    "4. What are the values of the following expressions?\n",
    "(5 > 4) and (3 == 5)\n",
    "not (5 > 4)\n",
    "(5 > 4) or (3 == 5)\n",
    "not ((5 > 4) or (3 == 5))\n",
    "(True and True) and (True == False)\n",
    "(not False) or (not True)\n",
    "\n",
    "Ans:\n",
    "(5 > 4) and (3 == 5)                  --> False\n",
    "not (5 > 4)                           --> False\n",
    "(5 > 4) or (3 == 5)                   --> True\n",
    "not ((5 > 4) or (3 == 5))             --> False\n",
    "(True and True) and (True == False)   --> False\n",
    "(not False) or (not True)             --> True"
   ]
  },
  {
   "cell_type": "code",
   "execution_count": null,
   "id": "e65315cb-b917-4ce7-a1ad-0628b245ab66",
   "metadata": {},
   "outputs": [],
   "source": [
    "5. What are the six comparison operators?\n",
    "\n",
    "Ans:The six comparison operators are:\n",
    "i)   == --> Equal to operator - This operator checks if two are operand are equal. It returns True, if \n",
    "                                both operand are equals else returns False\n",
    "ii)  != --> Not Equal to operator - This operator checks if two operands are not equal to each other. It \n",
    "                                    returns True, if both operand are not equal else returns False.\n",
    "iii) >  --> Greater than operator - This operator checks if left operand is greater than right operand.\n",
    "iv)  <  --> Lesser than operator - This operator checks if left operand is less then right operand.\n",
    "v)   >= --> Greater than equal to operator - This operator checks if left operand is greater than equal to \n",
    "                                             right operand.\n",
    "vi)  <= --> Lesser than equal to operator - This operator checks if left operand is less than equal to right\n",
    "                                            operand."
   ]
  },
  {
   "cell_type": "code",
   "execution_count": null,
   "id": "33804614-2b27-4b95-835a-d4e16daee065",
   "metadata": {},
   "outputs": [],
   "source": [
    "6. How do you tell the difference between the equal to and assignment operators?Describe a condition and when you\n",
    "would use one.\n",
    "\n",
    "Ans: 'Equal to' operator is denoted by '=='. It compares two operands if they are equal or not. It returns True, \n",
    "if equal else return False. It is used, when we need compare two operands and proceed only if the condition is \n",
    "met or True.\n",
    "\n",
    "'Assignment' operator is denoted by '='. It assigns a value to the left operand. It is used to assign a variable \n",
    "with a value.\n",
    "\n",
    "Eg. a = 45            #Assignment operator\n",
    "    if a == 45:       #Equal to operator\n",
    "        print(True)"
   ]
  },
  {
   "cell_type": "code",
   "execution_count": null,
   "id": "f7e0a3d0-ab70-4537-b283-a94fabb3272c",
   "metadata": {},
   "outputs": [],
   "source": [
    "7. Identify the three blocks in this code:\n",
    "spam = 0\n",
    "if spam == 10:\n",
    "print('eggs')\n",
    "if spam > 5:\n",
    "print('bacon')\n",
    "else:\n",
    "print('ham')\n",
    "print('spam')\n",
    "print('spam')\n",
    "\n",
    "Ans:\n",
    "spam = 0\n",
    "if spam == 10:\n",
    "    print('eggs')     #Block 1\n",
    "if spam > 5:\n",
    "    print('bacon')    #Block 2\n",
    "else:\n",
    "    print('ham')     #}\n",
    "    print('spam')    #}Block 3\n",
    "    print('spam')    #}"
   ]
  },
  {
   "cell_type": "code",
   "execution_count": null,
   "id": "92ffca88-ee6a-494c-ba09-e31b3246b9fd",
   "metadata": {},
   "outputs": [],
   "source": [
    "8. Write code that prints Hello if 1 is stored in spam, prints Howdy if 2 is stored in spam, and prints Greetings!\n",
    "if anything else is stored in spam.\n",
    "\n",
    "Ans:\n",
    "spam = int(input())\n",
    "if spam == 1:\n",
    "    print(\"Hello\")\n",
    "elif spam == 2:\n",
    "    print(\"Howdy\")\n",
    "else:\n",
    "    print(Greetings!)"
   ]
  },
  {
   "cell_type": "code",
   "execution_count": null,
   "id": "cf831214-c409-4569-8242-c10755dedd51",
   "metadata": {},
   "outputs": [],
   "source": [
    "9.If your programme is stuck in an endless loop, what keys you’ll press?\n",
    "\n",
    "Ans:I will hit \"Interrupt the Kernel\" to come out of the endless loop."
   ]
  },
  {
   "cell_type": "code",
   "execution_count": null,
   "id": "170277d2-ed47-4bcc-8471-e6c83cf23fee",
   "metadata": {},
   "outputs": [],
   "source": [
    "10. How can you tell the difference between break and continue?\n",
    "\n",
    "Ans: Both break and continue are reserved keyword in Python and used in 'For' or 'While' loop.\n",
    "'break' keyword is used to terminate the iteration in the loop whereas 'continue' keyword skip the current \n",
    "iteration and pass the control to the loop to start the next iteration."
   ]
  },
  {
   "cell_type": "code",
   "execution_count": null,
   "id": "835b3f21-d765-4207-a80b-f1ccba1f2ca0",
   "metadata": {},
   "outputs": [],
   "source": [
    "11. In a for loop, what is the difference between range(10), range(0, 10), and range(0, 10, 1)?\n",
    "\n",
    "Ans: range(10), range(0, 10) and range(0, 10, 1)- Range functions creates a sequence of number. The number of \n",
    "arguements in the range function in here, all denotes the same sequence.\n",
    "range(10) - It creates a sequence of number from 0 to 9 (exlcudes the last number) incrementing by 1. \n",
    "            Only end number is mentioned in argument which means that default value to start the sequence\n",
    "            is 0 and default value to increment the sequence is 1.\n",
    "range(0,10) - This function also creates the same function as before. Start number is provided in the function\n",
    "              i.e. 0 which is also the default value. Increment is not mentioned and hence it takes the default\n",
    "              value i.e. 1\n",
    "range(0,10,1) -In this function, all the parameters have been clearly mentioned and it is same to default \n",
    "               value. Hence the result is same as above."
   ]
  },
  {
   "cell_type": "code",
   "execution_count": null,
   "id": "e2e757d9-bae8-4987-9fe7-8ba775aa8972",
   "metadata": {},
   "outputs": [],
   "source": [
    "12. Write a short program that prints the numbers 1 to 10 using a for loop. Then write an equivalent program that prints the numbers 1 to 10 using a while loop.\n",
    "\n",
    "Ans: \n",
    "#For loop:\n",
    "for i in range(1,11):\n",
    "    print(i)\n",
    "\n",
    "#While Loop:\n",
    "i = 1\n",
    "while i <= 10:\n",
    "    print(i)\n",
    "    i+=1"
   ]
  },
  {
   "cell_type": "code",
   "execution_count": null,
   "id": "119183f4-e26d-47a4-beb0-a6a1de4608eb",
   "metadata": {},
   "outputs": [],
   "source": [
    "13. If you had a function named bacon() inside a module named spam, how would you call it after importing spam?\n",
    "\n",
    "Ans: spam.bacon() - is the syntax to call a function named bacon which is defined inside spam module."
   ]
  }
 ],
 "metadata": {
  "kernelspec": {
   "display_name": "Python 3 (ipykernel)",
   "language": "python",
   "name": "python3"
  },
  "language_info": {
   "codemirror_mode": {
    "name": "ipython",
    "version": 3
   },
   "file_extension": ".py",
   "mimetype": "text/x-python",
   "name": "python",
   "nbconvert_exporter": "python",
   "pygments_lexer": "ipython3",
   "version": "3.10.6"
  }
 },
 "nbformat": 4,
 "nbformat_minor": 5
}
